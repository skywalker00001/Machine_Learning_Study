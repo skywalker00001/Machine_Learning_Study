{
  "nbformat": 4,
  "nbformat_minor": 0,
  "metadata": {
    "colab": {
      "name": "21sentences.ipynb",
      "provenance": [],
      "collapsed_sections": [],
      "toc_visible": true,
      "authorship_tag": "ABX9TyNrMqzHsgq4nkOv1IeEkI33",
      "include_colab_link": true
    },
    "kernelspec": {
      "name": "python3",
      "display_name": "Python 3"
    },
    "language_info": {
      "name": "python"
    }
  },
  "cells": [
    {
      "cell_type": "markdown",
      "metadata": {
        "id": "view-in-github",
        "colab_type": "text"
      },
      "source": [
        "<a href=\"https://colab.research.google.com/github/skywalker00001/Machine_Learning_Study/blob/main/21sentences.ipynb\" target=\"_parent\"><img src=\"https://colab.research.google.com/assets/colab-badge.svg\" alt=\"Open In Colab\"/></a>"
      ]
    },
    {
      "cell_type": "markdown",
      "metadata": {
        "id": "odhnP9UEWrSJ"
      },
      "source": [
        "# Define my dataset"
      ]
    },
    {
      "cell_type": "code",
      "metadata": {
        "id": "0I4aDbIAWwXf"
      },
      "source": [
        ">>> import numpy as np\n",
        ">>> members = np.array([\n",
        "  ['男', '25', 185, 80, '程序员', 35, 200,  30],\n",
        "  ['女', '23', 170, 55, '公务员', 15,   0,  80],\n",
        "  ['男', '30', 180, 82, '律师',   60, 260, 300],\n",
        "  ['女', '27', 168, 52, '记者',   20, 180, 150]\n",
        "])"
      ],
      "execution_count": 1,
      "outputs": []
    },
    {
      "cell_type": "code",
      "metadata": {
        "colab": {
          "base_uri": "https://localhost:8080/"
        },
        "id": "gung2aGGW9nB",
        "outputId": "1ab7ab5e-0e19-46f7-b7f2-e043abd603e3"
      },
      "source": [
        "security = np.float32(members[:, -1])\n",
        "print(security.dtype)"
      ],
      "execution_count": 2,
      "outputs": [
        {
          "output_type": "stream",
          "text": [
            "float32\n"
          ],
          "name": "stdout"
        }
      ]
    },
    {
      "cell_type": "code",
      "metadata": {
        "colab": {
          "base_uri": "https://localhost:8080/"
        },
        "id": "VUZYAlxqXa1I",
        "outputId": "4df00492-7a2e-40c8-c9fb-444cbee57cd7"
      },
      "source": [
        "# standardization\n",
        "\n",
        "standardization = (security - security.mean()) / security.std()\n",
        "standardization"
      ],
      "execution_count": 3,
      "outputs": [
        {
          "output_type": "execute_result",
          "data": {
            "text/plain": [
              "array([-1.081241  , -0.5897678 ,  1.5727142 ,  0.09829464], dtype=float32)"
            ]
          },
          "metadata": {
            "tags": []
          },
          "execution_count": 3
        }
      ]
    },
    {
      "cell_type": "code",
      "metadata": {
        "colab": {
          "base_uri": "https://localhost:8080/"
        },
        "id": "v7yE8ETrYFVC",
        "outputId": "15eb30ce-c497-4725-9bc2-a5785e700e29"
      },
      "source": [
        "# normalization\n",
        "\n",
        "normalization = (security - security.min()) / (security.max() - security.min())\n",
        "normalization"
      ],
      "execution_count": 4,
      "outputs": [
        {
          "output_type": "execute_result",
          "data": {
            "text/plain": [
              "array([0.        , 0.18518518, 1.        , 0.44444445], dtype=float32)"
            ]
          },
          "metadata": {
            "tags": []
          },
          "execution_count": 4
        }
      ]
    },
    {
      "cell_type": "code",
      "metadata": {
        "colab": {
          "base_uri": "https://localhost:8080/"
        },
        "id": "7cxdTNA-Z6L4",
        "outputId": "5dc9fb26-29af-4e4e-bf08-216d541744d5"
      },
      "source": [
        "from sklearn import preprocessing as pp\n",
        "\n",
        "X = [\n",
        "  ['男', '程序员'],\n",
        "  ['女', '公务员'],\n",
        "  ['男', '律师', ],\n",
        "  ['女', '记者', ]\n",
        "]\n",
        "\n",
        "ohe = pp.OneHotEncoder().fit(X)\n",
        "ohe.transform(X).toarray() "
      ],
      "execution_count": 5,
      "outputs": [
        {
          "output_type": "execute_result",
          "data": {
            "text/plain": [
              "array([[0., 1., 0., 0., 1., 0.],\n",
              "       [1., 0., 1., 0., 0., 0.],\n",
              "       [0., 1., 0., 1., 0., 0.],\n",
              "       [1., 0., 0., 0., 0., 1.]])"
            ]
          },
          "metadata": {
            "tags": []
          },
          "execution_count": 5
        }
      ]
    },
    {
      "cell_type": "markdown",
      "metadata": {
        "id": "bMZ6u22XaitC"
      },
      "source": [
        "# Import Sikit-learn dataset"
      ]
    },
    {
      "cell_type": "code",
      "metadata": {
        "colab": {
          "base_uri": "https://localhost:8080/"
        },
        "id": "zm5hlX76aany",
        "outputId": "3fe2b356-a496-4875-a264-eb5bc9af7d19"
      },
      "source": [
        "from sklearn.datasets import load_iris\n",
        "\n",
        "X, y = load_iris(return_X_y=True)\n",
        "\n",
        "print(X.shape)\n",
        "\n",
        "print(y.shape)\n",
        "\n",
        "print(X[0], y[0])"
      ],
      "execution_count": 6,
      "outputs": [
        {
          "output_type": "stream",
          "text": [
            "(150, 4)\n",
            "(150,)\n",
            "[5.1 3.5 1.4 0.2] 0\n"
          ],
          "name": "stdout"
        }
      ]
    },
    {
      "cell_type": "code",
      "metadata": {
        "colab": {
          "base_uri": "https://localhost:8080/"
        },
        "id": "rMtFuZKVc9LQ",
        "outputId": "0ccc2f5a-cdd6-45e7-fa40-6145294c5aac"
      },
      "source": [
        "iris = load_iris()\n",
        "iris.target_names"
      ],
      "execution_count": 7,
      "outputs": [
        {
          "output_type": "execute_result",
          "data": {
            "text/plain": [
              "array(['setosa', 'versicolor', 'virginica'], dtype='<U10')"
            ]
          },
          "metadata": {
            "tags": []
          },
          "execution_count": 7
        }
      ]
    },
    {
      "cell_type": "code",
      "metadata": {
        "colab": {
          "base_uri": "https://localhost:8080/"
        },
        "id": "Sazt3tt2dxc5",
        "outputId": "2b83fd71-28d5-4f57-8b7f-84af4712743b"
      },
      "source": [
        "X = iris.data\n",
        "print(X.shape)\n",
        "y = iris.target\n",
        "print(y.shape)"
      ],
      "execution_count": 8,
      "outputs": [
        {
          "output_type": "stream",
          "text": [
            "(150, 4)\n",
            "(150,)\n"
          ],
          "name": "stdout"
        }
      ]
    },
    {
      "cell_type": "markdown",
      "metadata": {
        "id": "9Wq-dZNmd_9m"
      },
      "source": [
        "# Split dataset"
      ]
    },
    {
      "cell_type": "code",
      "metadata": {
        "id": "GzhoN7x4d9d7"
      },
      "source": [
        "from sklearn.datasets import load_iris\n",
        "\n",
        "from sklearn.model_selection import train_test_split as tsplit\n",
        "\n",
        "X, y = load_iris(return_X_y=True)"
      ],
      "execution_count": 9,
      "outputs": []
    },
    {
      "cell_type": "code",
      "metadata": {
        "colab": {
          "base_uri": "https://localhost:8080/"
        },
        "id": "UItLUySDeYcW",
        "outputId": "390dc824-a9a5-4fce-c110-51eae2d4102a"
      },
      "source": [
        "X_train, X_test, y_train, y_test = tsplit(X, y, test_size=0.1)\n",
        "print(X_train.shape, X_test.shape)\n",
        "print(y_train.shape, y_test.shape)"
      ],
      "execution_count": 10,
      "outputs": [
        {
          "output_type": "stream",
          "text": [
            "(135, 4) (15, 4)\n",
            "(135,) (15,)\n"
          ],
          "name": "stdout"
        }
      ]
    },
    {
      "cell_type": "markdown",
      "metadata": {
        "id": "Hv4gGSCTe9lu"
      },
      "source": [
        "# K-neighbors classifier"
      ]
    },
    {
      "cell_type": "code",
      "metadata": {
        "id": "P1vhfG7Pe4mE"
      },
      "source": [
        "from sklearn.datasets import load_iris\n",
        "from sklearn.model_selection import train_test_split as tsplit\n",
        "\n",
        "X, y = load_iris(return_X_y=True)\n",
        "X_train, X_test, y_train, y_test = tsplit(X, y, test_size=0.1)"
      ],
      "execution_count": 11,
      "outputs": []
    },
    {
      "cell_type": "code",
      "metadata": {
        "colab": {
          "base_uri": "https://localhost:8080/"
        },
        "id": "qGWXao9kfSra",
        "outputId": "a6b3c28d-bd8e-4228-8a15-9b2bb891f638"
      },
      "source": [
        "from sklearn.neighbors import KNeighborsClassifier\n",
        "\n",
        "m = KNeighborsClassifier(n_neighbors=10)\n",
        "m.fit(X_train, y_train)"
      ],
      "execution_count": 12,
      "outputs": [
        {
          "output_type": "execute_result",
          "data": {
            "text/plain": [
              "KNeighborsClassifier(algorithm='auto', leaf_size=30, metric='minkowski',\n",
              "                     metric_params=None, n_jobs=None, n_neighbors=10, p=2,\n",
              "                     weights='uniform')"
            ]
          },
          "metadata": {
            "tags": []
          },
          "execution_count": 12
        }
      ]
    },
    {
      "cell_type": "code",
      "metadata": {
        "colab": {
          "base_uri": "https://localhost:8080/"
        },
        "id": "lkdt_Mzpfr2E",
        "outputId": "1457fb48-d2af-4274-f0fc-23fa86a5d1aa"
      },
      "source": [
        "m.predict(X_test)"
      ],
      "execution_count": 13,
      "outputs": [
        {
          "output_type": "execute_result",
          "data": {
            "text/plain": [
              "array([2, 2, 1, 0, 0, 1, 0, 0, 2, 2, 2, 2, 0, 0, 1])"
            ]
          },
          "metadata": {
            "tags": []
          },
          "execution_count": 13
        }
      ]
    },
    {
      "cell_type": "code",
      "metadata": {
        "colab": {
          "base_uri": "https://localhost:8080/"
        },
        "id": "PpfBgB_rgB0f",
        "outputId": "ab1a01d4-27ea-4cdd-ff0e-2f8a42f243ed"
      },
      "source": [
        "y_test"
      ],
      "execution_count": 14,
      "outputs": [
        {
          "output_type": "execute_result",
          "data": {
            "text/plain": [
              "array([2, 2, 1, 0, 0, 1, 0, 0, 2, 1, 2, 2, 0, 0, 1])"
            ]
          },
          "metadata": {
            "tags": []
          },
          "execution_count": 14
        }
      ]
    },
    {
      "cell_type": "code",
      "metadata": {
        "colab": {
          "base_uri": "https://localhost:8080/"
        },
        "id": "QjcpmQT3gEkY",
        "outputId": "276eaef5-b77e-430e-bc8f-426cb9e5fd01"
      },
      "source": [
        "m.score(X_test, y_test)"
      ],
      "execution_count": 15,
      "outputs": [
        {
          "output_type": "execute_result",
          "data": {
            "text/plain": [
              "0.9333333333333333"
            ]
          },
          "metadata": {
            "tags": []
          },
          "execution_count": 15
        }
      ]
    },
    {
      "cell_type": "markdown",
      "metadata": {
        "id": "cW6LxGEUgOQg"
      },
      "source": [
        "# K-neighbors regressor"
      ]
    },
    {
      "cell_type": "code",
      "metadata": {
        "colab": {
          "base_uri": "https://localhost:8080/"
        },
        "id": "zliEAXDwgJ6H",
        "outputId": "d34a7512-e23f-4fe7-ff00-0b14fd639649"
      },
      "source": [
        "from sklearn.datasets import load_boston\n",
        "from sklearn.model_selection import train_test_split as tsplit\n",
        "from sklearn.neighbors import KNeighborsRegressor\n",
        "\n",
        "X, y = load_boston(return_X_y=True)\n",
        "X.shape, y.shape, y.dtype"
      ],
      "execution_count": 16,
      "outputs": [
        {
          "output_type": "execute_result",
          "data": {
            "text/plain": [
              "((506, 13), (506,), dtype('float64'))"
            ]
          },
          "metadata": {
            "tags": []
          },
          "execution_count": 16
        }
      ]
    },
    {
      "cell_type": "code",
      "metadata": {
        "colab": {
          "base_uri": "https://localhost:8080/"
        },
        "id": "HTSDcs0GgyaT",
        "outputId": "19e4f8e7-0964-45ae-8ff9-0940b147a7dc"
      },
      "source": [
        "X_train, X_test, y_train, y_test = tsplit(X, y, test_size=0.01)\n",
        "m = KNeighborsRegressor(n_neighbors=10)\n",
        "m.fit(X_train, y_train)\n",
        "m.predict(X_test)"
      ],
      "execution_count": 17,
      "outputs": [
        {
          "output_type": "execute_result",
          "data": {
            "text/plain": [
              "array([16.92, 31.86, 36.39, 23.15, 10.63, 27.42])"
            ]
          },
          "metadata": {
            "tags": []
          },
          "execution_count": 17
        }
      ]
    },
    {
      "cell_type": "code",
      "metadata": {
        "colab": {
          "base_uri": "https://localhost:8080/"
        },
        "id": "_oFZD97KlL-k",
        "outputId": "7f50f271-fda8-41fb-c443-fd60a0aa1fd8"
      },
      "source": [
        "y_test"
      ],
      "execution_count": 18,
      "outputs": [
        {
          "output_type": "execute_result",
          "data": {
            "text/plain": [
              "array([15.2, 29.1, 16. , 29.9, 10.2, 50. ])"
            ]
          },
          "metadata": {
            "tags": []
          },
          "execution_count": 18
        }
      ]
    },
    {
      "cell_type": "code",
      "metadata": {
        "colab": {
          "base_uri": "https://localhost:8080/"
        },
        "id": "bHo3CryAllcr",
        "outputId": "9d384100-0c7d-41bb-8366-ba968094dc7b"
      },
      "source": [
        "y_pred = m.predict(X_test)\n",
        "y_pred"
      ],
      "execution_count": 19,
      "outputs": [
        {
          "output_type": "execute_result",
          "data": {
            "text/plain": [
              "array([16.92, 31.86, 36.39, 23.15, 10.63, 27.42])"
            ]
          },
          "metadata": {
            "tags": []
          },
          "execution_count": 19
        }
      ]
    },
    {
      "cell_type": "markdown",
      "metadata": {
        "id": "wOUz1oZllaM-"
      },
      "source": [
        "# Metrics"
      ]
    },
    {
      "cell_type": "code",
      "metadata": {
        "colab": {
          "base_uri": "https://localhost:8080/"
        },
        "id": "9fS1rsKtlb1L",
        "outputId": "3855f423-b984-4d61-db3a-262c0d32184f"
      },
      "source": [
        "from sklearn import metrics\n",
        "y_pred = m.predict(X_test)\n",
        "MSE = metrics.mean_squared_error(y_test, y_pred)\n",
        "print(MSE)\n",
        "MAE = metrics.median_absolute_error(y_test, y_pred)\n",
        "print(MAE)\n",
        "r2 = metrics.r2_score(y_test, y_pred)\n",
        "print(r2)"
      ],
      "execution_count": 20,
      "outputs": [
        {
          "output_type": "stream",
          "text": [
            "163.65531666666664\n",
            "4.7549999999999955\n",
            "0.07528339852210897\n"
          ],
          "name": "stdout"
        }
      ]
    },
    {
      "cell_type": "code",
      "metadata": {
        "colab": {
          "base_uri": "https://localhost:8080/"
        },
        "id": "BKs9cswtmOgP",
        "outputId": "232d1498-3173-465b-c195-ba460a7d00ea"
      },
      "source": [
        "# decision tree\n",
        "\n",
        "from sklearn.datasets import load_boston\n",
        "from sklearn.model_selection import train_test_split as tsplit\n",
        "from sklearn.tree import DecisionTreeRegressor\n",
        "X, y = load_boston(return_X_y=True) # 加载波士顿房价数据集\n",
        "\n",
        "X_train, X_test, y_train, y_test = tsplit(X, y, test_size=0.01) # 拆分为训练集和测试集\n",
        "m = DecisionTreeRegressor(max_depth=10) # 实例化模型，决策树深度为10\n",
        "m.fit(X, y) # 训练\n",
        "y_pred = m.predict(X_test) # 预测\n",
        "y_pred"
      ],
      "execution_count": 21,
      "outputs": [
        {
          "output_type": "execute_result",
          "data": {
            "text/plain": [
              "array([20.6       , 16.5       , 15.95      , 43.1       , 12.86666667,\n",
              "       44.8       ])"
            ]
          },
          "metadata": {
            "tags": []
          },
          "execution_count": 21
        }
      ]
    },
    {
      "cell_type": "code",
      "metadata": {
        "colab": {
          "base_uri": "https://localhost:8080/"
        },
        "id": "4VdLiOWany70",
        "outputId": "786a59fe-7946-411d-ef71-d592ba013918"
      },
      "source": [
        "y_test"
      ],
      "execution_count": 22,
      "outputs": [
        {
          "output_type": "execute_result",
          "data": {
            "text/plain": [
              "array([20.6, 16.5, 15.2, 43.1, 12.7, 44.8])"
            ]
          },
          "metadata": {
            "tags": []
          },
          "execution_count": 22
        }
      ]
    },
    {
      "cell_type": "code",
      "metadata": {
        "colab": {
          "base_uri": "https://localhost:8080/"
        },
        "id": "xL9wx9o0n8-2",
        "outputId": "c2512ba7-53b8-4a84-9a54-23b07f484adf"
      },
      "source": [
        "MSE = metrics.mean_squared_error(y_test, y_pred)\n",
        "print(MSE)\n",
        "MAE = metrics.median_absolute_error(y_test, y_pred)\n",
        "print(MAE)\n",
        "r2 = metrics.r2_score(y_test, y_pred)\n",
        "print(r2)"
      ],
      "execution_count": 23,
      "outputs": [
        {
          "output_type": "stream",
          "text": [
            "0.0983796296296296\n",
            "0.0\n",
            "0.9994416531481041\n"
          ],
          "name": "stdout"
        }
      ]
    },
    {
      "cell_type": "markdown",
      "metadata": {
        "id": "1S02qOdzoK-D"
      },
      "source": [
        "# SVM"
      ]
    },
    {
      "cell_type": "code",
      "metadata": {
        "colab": {
          "base_uri": "https://localhost:8080/"
        },
        "id": "CWV8HR6JoMt-",
        "outputId": "e1147298-d9dd-4f72-aef7-3221035d9949"
      },
      "source": [
        "from sklearn.datasets import load_diabetes\n",
        "from sklearn.model_selection import train_test_split as tsplit\n",
        "from sklearn.svm import SVR\n",
        "from sklearn import metrics\n",
        "\n",
        "X, y = load_diabetes(return_X_y=True)\n",
        "X.shape, y.shape"
      ],
      "execution_count": 24,
      "outputs": [
        {
          "output_type": "execute_result",
          "data": {
            "text/plain": [
              "((442, 10), (442,))"
            ]
          },
          "metadata": {
            "tags": []
          },
          "execution_count": 24
        }
      ]
    },
    {
      "cell_type": "code",
      "metadata": {
        "id": "ykhFGKHrowsN"
      },
      "source": [
        "X_train, X_test, y_train, y_test = tsplit(X, y, test_size=0.02)\n",
        "svr_1 = SVR(kernel='rbf', C=0.1)\n",
        "svr_2 = SVR(kernel='rbf', C=100)\n",
        "svr_3 = SVR(kernel='rbf', C=1000)\n",
        "svr_1.fit(X_train, y_train)\n",
        "svr_2.fit(X_train, y_train)\n",
        "svr_3.fit(X_train, y_train)\n",
        "z_1 = svr_1.predict(X_test)\n",
        "z_2 = svr_2.predict(X_test)\n",
        "z_3 = svr_3.predict(X_test)"
      ],
      "execution_count": 25,
      "outputs": []
    },
    {
      "cell_type": "code",
      "metadata": {
        "colab": {
          "base_uri": "https://localhost:8080/"
        },
        "id": "rtWFl7l5pHTi",
        "outputId": "365fa59c-216f-45c4-8769-ea795db01b1c"
      },
      "source": [
        "y_test"
      ],
      "execution_count": 26,
      "outputs": [
        {
          "output_type": "execute_result",
          "data": {
            "text/plain": [
              "array([ 68., 111.,  63., 122.,  85., 220., 245., 225., 128.])"
            ]
          },
          "metadata": {
            "tags": []
          },
          "execution_count": 26
        }
      ]
    },
    {
      "cell_type": "code",
      "metadata": {
        "colab": {
          "base_uri": "https://localhost:8080/"
        },
        "id": "NUNK_o7spML2",
        "outputId": "b23c3325-80d4-4624-fe5d-565597f9d104"
      },
      "source": [
        "z_1"
      ],
      "execution_count": 27,
      "outputs": [
        {
          "output_type": "execute_result",
          "data": {
            "text/plain": [
              "array([138.87731173, 142.49167673, 137.71488783, 143.38993794,\n",
              "       140.48737443, 143.72039584, 143.19453383, 141.71801856,\n",
              "       137.73516348])"
            ]
          },
          "metadata": {
            "tags": []
          },
          "execution_count": 27
        }
      ]
    },
    {
      "cell_type": "code",
      "metadata": {
        "colab": {
          "base_uri": "https://localhost:8080/"
        },
        "id": "L66JtLs0pOST",
        "outputId": "9c5e99a4-e848-4041-9b9d-ed76296d3f56"
      },
      "source": [
        "z_2"
      ],
      "execution_count": 28,
      "outputs": [
        {
          "output_type": "execute_result",
          "data": {
            "text/plain": [
              "array([123.75427214, 142.10244037,  55.27818569, 173.83502101,\n",
              "       114.77843324, 201.69960102, 260.84806575, 149.58665463,\n",
              "        56.12726481])"
            ]
          },
          "metadata": {
            "tags": []
          },
          "execution_count": 28
        }
      ]
    },
    {
      "cell_type": "code",
      "metadata": {
        "colab": {
          "base_uri": "https://localhost:8080/"
        },
        "id": "104nQU6ApS_E",
        "outputId": "cd7e5ddd-444b-4175-a8f8-8ad60b613126"
      },
      "source": [
        "MSE = metrics.mean_squared_error(y_test, z_1)\n",
        "print(MSE)\n",
        "MAE = metrics.median_absolute_error(y_test, z_1)\n",
        "print(MAE)\n",
        "r2 = metrics.r2_score(y_test, z_1)\n",
        "print(r2)"
      ],
      "execution_count": 29,
      "outputs": [
        {
          "output_type": "stream",
          "text": [
            "4260.844938175758\n",
            "70.87731172723755\n",
            "0.043499212934182574\n"
          ],
          "name": "stdout"
        }
      ]
    },
    {
      "cell_type": "code",
      "metadata": {
        "colab": {
          "base_uri": "https://localhost:8080/"
        },
        "id": "j9e_APLPpWMa",
        "outputId": "b62d1101-fbb2-43c0-e5e2-b98fe0271744"
      },
      "source": [
        "MSE = metrics.mean_squared_error(y_test, z_2)\n",
        "print(MSE)\n",
        "MAE = metrics.median_absolute_error(y_test, z_2)\n",
        "print(MAE)\n",
        "r2 = metrics.r2_score(y_test, z_2)\n",
        "print(r2)"
      ],
      "execution_count": 30,
      "outputs": [
        {
          "output_type": "stream",
          "text": [
            "2127.5644533020436\n",
            "31.10244036534192\n",
            "0.5223911915020465\n"
          ],
          "name": "stdout"
        }
      ]
    },
    {
      "cell_type": "code",
      "metadata": {
        "colab": {
          "base_uri": "https://localhost:8080/"
        },
        "id": "JsBQp9yIp2Qj",
        "outputId": "f46ea7bd-28ae-4f90-e7be-48fa111d7f2e"
      },
      "source": [
        "MSE = metrics.mean_squared_error(y_test, z_3)\n",
        "print(MSE)\n",
        "MAE = metrics.median_absolute_error(y_test, z_3)\n",
        "print(MAE)\n",
        "r2 = metrics.r2_score(y_test, z_3)\n",
        "print(r2)"
      ],
      "execution_count": 31,
      "outputs": [
        {
          "output_type": "stream",
          "text": [
            "2918.3457131579435\n",
            "56.218085923814016\n",
            "0.3448717303566463\n"
          ],
          "name": "stdout"
        }
      ]
    },
    {
      "cell_type": "markdown",
      "metadata": {
        "id": "0uj-Klrcqp36"
      },
      "source": [
        "# Random forest"
      ]
    },
    {
      "cell_type": "code",
      "metadata": {
        "colab": {
          "base_uri": "https://localhost:8080/"
        },
        "id": "VxsCH_fEqsg2",
        "outputId": "73ffe94b-1dad-4ecc-beb0-d13b55668c36"
      },
      "source": [
        "from sklearn.datasets import load_breast_cancer\n",
        "from sklearn.tree import DecisionTreeClassifier\n",
        "from sklearn.ensemble import RandomForestClassifier\n",
        "from sklearn.model_selection import cross_val_score\n",
        "\n",
        "ds = load_breast_cancer()\n",
        "ds.data.shape"
      ],
      "execution_count": 32,
      "outputs": [
        {
          "output_type": "execute_result",
          "data": {
            "text/plain": [
              "(569, 30)"
            ]
          },
          "metadata": {
            "tags": []
          },
          "execution_count": 32
        }
      ]
    },
    {
      "cell_type": "code",
      "metadata": {
        "id": "jQk9aJt6rNpz"
      },
      "source": [
        "dtc = DecisionTreeClassifier()\n",
        "rfc = RandomForestClassifier()"
      ],
      "execution_count": 33,
      "outputs": []
    },
    {
      "cell_type": "code",
      "metadata": {
        "colab": {
          "base_uri": "https://localhost:8080/"
        },
        "id": "HYzPz-HxrYAX",
        "outputId": "0220e6c5-a507-4c1b-b1ea-3edbb23903b5"
      },
      "source": [
        "dtc_score = cross_val_score(dtc, ds.data, ds.target, cv=10)\n",
        "dtc_score"
      ],
      "execution_count": 34,
      "outputs": [
        {
          "output_type": "execute_result",
          "data": {
            "text/plain": [
              "array([0.92982456, 0.85964912, 0.92982456, 0.85964912, 0.9122807 ,\n",
              "       0.89473684, 0.89473684, 0.94736842, 0.9122807 , 0.91071429])"
            ]
          },
          "metadata": {
            "tags": []
          },
          "execution_count": 34
        }
      ]
    },
    {
      "cell_type": "code",
      "metadata": {
        "colab": {
          "base_uri": "https://localhost:8080/"
        },
        "id": "EQOL4GnjrrPp",
        "outputId": "5c46bf56-d863-4f39-8e20-1fb8c0cfcac0"
      },
      "source": [
        "dtc_score.mean()"
      ],
      "execution_count": 35,
      "outputs": [
        {
          "output_type": "execute_result",
          "data": {
            "text/plain": [
              "0.9051065162907268"
            ]
          },
          "metadata": {
            "tags": []
          },
          "execution_count": 35
        }
      ]
    },
    {
      "cell_type": "code",
      "metadata": {
        "colab": {
          "base_uri": "https://localhost:8080/"
        },
        "id": "mtTo42SHryL-",
        "outputId": "e62bc65d-b5aa-453f-c980-e9b804a6b70a"
      },
      "source": [
        "rfc_score = cross_val_score(rfc, ds.data, ds.target, cv=10)\n",
        "rfc_score"
      ],
      "execution_count": 36,
      "outputs": [
        {
          "output_type": "execute_result",
          "data": {
            "text/plain": [
              "array([0.98245614, 0.89473684, 0.94736842, 0.94736842, 1.        ,\n",
              "       0.98245614, 0.92982456, 0.98245614, 0.94736842, 0.98214286])"
            ]
          },
          "metadata": {
            "tags": []
          },
          "execution_count": 36
        }
      ]
    },
    {
      "cell_type": "code",
      "metadata": {
        "colab": {
          "base_uri": "https://localhost:8080/"
        },
        "id": "kimlSe5Wr7og",
        "outputId": "6025815a-a3b6-4794-c775-37b8235f2ede"
      },
      "source": [
        "rfc_score.mean()"
      ],
      "execution_count": 37,
      "outputs": [
        {
          "output_type": "execute_result",
          "data": {
            "text/plain": [
              "0.9596177944862155"
            ]
          },
          "metadata": {
            "tags": []
          },
          "execution_count": 37
        }
      ]
    },
    {
      "cell_type": "markdown",
      "metadata": {
        "id": "XaW3AznzsIeZ"
      },
      "source": [
        "# K-Means Clustering"
      ]
    },
    {
      "cell_type": "code",
      "metadata": {
        "colab": {
          "base_uri": "https://localhost:8080/",
          "height": 52
        },
        "id": "MbL8H79tszeO",
        "outputId": "168102a9-eec6-4903-c3a7-50fe53a5636d"
      },
      "source": [
        "'''\n",
        "!gdown --id 1fsKERl26TNTFIY25PhReoCujxwJvfyHn\n",
        "!mv SimHei\\ .ttf   SimHei.ttf\n",
        "!mv SimHei.ttf /usr/local/lib/python3.7/dist-packages/matplotlib//mpl-data/fonts/ttf/\n",
        "'''"
      ],
      "execution_count": 38,
      "outputs": [
        {
          "output_type": "execute_result",
          "data": {
            "application/vnd.google.colaboratory.intrinsic+json": {
              "type": "string"
            },
            "text/plain": [
              "'\\n!gdown --id 1fsKERl26TNTFIY25PhReoCujxwJvfyHn\\n!mv SimHei\\\\ .ttf   SimHei.ttf\\n!mv SimHei.ttf /usr/local/lib/python3.7/dist-packages/matplotlib//mpl-data/fonts/ttf/\\n'"
            ]
          },
          "metadata": {
            "tags": []
          },
          "execution_count": 38
        }
      ]
    },
    {
      "cell_type": "code",
      "metadata": {
        "colab": {
          "base_uri": "https://localhost:8080/",
          "height": 69
        },
        "id": "TWAD8Hezs18-",
        "outputId": "6ed59e51-c5f1-471c-c237-21703bbb07ec"
      },
      "source": [
        "'''\n",
        "!cp /usr/local/lib/python3.7/dist-packages/matplotlib/mpl-data/fonts/ttf/DejaVuSans.ttf /usr/local/lib/python3.7/dist-packages/matplotlib/mpl-data/fonts/ttf/DejaVuSans.ttf.bp\n",
        "\n",
        "!cp /usr/local/lib/python3.7/dist-packages/matplotlib/mpl-data/fonts/ttf/SimHei.ttf /usr/local/lib/python3.7/dist-packages/matplotlib/mpl-data/fonts/ttf/DejaVuSans.ttf\n",
        "'''"
      ],
      "execution_count": 39,
      "outputs": [
        {
          "output_type": "execute_result",
          "data": {
            "application/vnd.google.colaboratory.intrinsic+json": {
              "type": "string"
            },
            "text/plain": [
              "'\\n!cp /usr/local/lib/python3.7/dist-packages/matplotlib/mpl-data/fonts/ttf/DejaVuSans.ttf /usr/local/lib/python3.7/dist-packages/matplotlib/mpl-data/fonts/ttf/DejaVuSans.ttf.bp\\n\\n!cp /usr/local/lib/python3.7/dist-packages/matplotlib/mpl-data/fonts/ttf/SimHei.ttf /usr/local/lib/python3.7/dist-packages/matplotlib/mpl-data/fonts/ttf/DejaVuSans.ttf\\n'"
            ]
          },
          "metadata": {
            "tags": []
          },
          "execution_count": 39
        }
      ]
    },
    {
      "cell_type": "code",
      "metadata": {
        "id": "SbGJmqPoudg2"
      },
      "source": [
        "from sklearn import datasets as dss # 导入样本生成器\n",
        "from sklearn.cluster import KMeans # 从聚类子模块导入聚类模型\n",
        "import matplotlib.pyplot as plt\n",
        "\n",
        "# 2means each point has 2 features -- X has 2 coordinates. y means labels\n",
        "X_blob, y_blob = dss.make_blobs(n_samples=[300, 400, 300], n_features=2) \n",
        "X_circle, y_circle = dss.make_circles(n_samples=1000, noise=0.05, factor=0.5)\n",
        "X_moon, y_moon = dss.make_moons(n_samples=1000, noise=0.05)"
      ],
      "execution_count": 44,
      "outputs": []
    },
    {
      "cell_type": "code",
      "metadata": {
        "id": "CW2F7xcQvsO2"
      },
      "source": [
        "y_blob_pred = KMeans(n_clusters=3, init='k-means++').fit_predict(X_blob)\n",
        "y_circle_pred = KMeans(n_clusters=2, init='k-means++').fit_predict(X_circle)\n",
        "y_moon_pred = KMeans(n_clusters=2, init='k-means++').fit_predict(X_moon)"
      ],
      "execution_count": 47,
      "outputs": []
    },
    {
      "cell_type": "code",
      "metadata": {
        "id": "lpJnLQEB1Cgd"
      },
      "source": [
        "dic = {0: 'lightgreen', 1: 'cyan'}\n",
        "mycolors = [dic[i] for i in y_moon_pred]"
      ],
      "execution_count": 64,
      "outputs": []
    },
    {
      "cell_type": "code",
      "metadata": {
        "colab": {
          "base_uri": "https://localhost:8080/",
          "height": 298
        },
        "id": "GoZ0qgCCwXOi",
        "outputId": "b00789d7-a3df-4306-c570-c947811c32ee"
      },
      "source": [
        "plt.subplot(131)\n",
        "plt.title('Blob')\n",
        "plt.scatter(X_blob[:, 0], X_blob[:, 1], c=y_blob_pred)\n",
        "\n",
        "plt.subplot(132)\n",
        "plt.title('Circle')\n",
        "plt.scatter(X_circle[:, 0], X_circle[:, 1], c=y_circle_pred)\n",
        "\n",
        "plt.subplot(133)\n",
        "plt.title('Moon')\n",
        "plt.scatter(X_moon[:, 0], X_moon[:, 1], c=mycolors)\n"
      ],
      "execution_count": 70,
      "outputs": [
        {
          "output_type": "execute_result",
          "data": {
            "text/plain": [
              "<matplotlib.collections.PathCollection at 0x7f4b48dbb710>"
            ]
          },
          "metadata": {
            "tags": []
          },
          "execution_count": 70
        },
        {
          "output_type": "display_data",
          "data": {
            "image/png": "[encoded data removed]",
            "text/plain": [
              "<Figure size 432x288 with 3 Axes>"
            ]
          },
          "metadata": {
            "tags": [],
            "needs_background": "light"
          }
        }
      ]
    },
    {
      "cell_type": "markdown",
      "metadata": {
        "id": "nX46qsf24aoC"
      },
      "source": [
        "# DBSCAN"
      ]
    },
    {
      "cell_type": "code",
      "metadata": {
        "colab": {
          "base_uri": "https://localhost:8080/",
          "height": 298
        },
        "id": "KCyoW-PS4f8b",
        "outputId": "5352d7ad-2003-40f8-8788-47ad1387c6f8"
      },
      "source": [
        "from sklearn import datasets as dss\n",
        "from sklearn.cluster import DBSCAN\n",
        "import matplotlib.pyplot as plt\n",
        "\n",
        "X, y = dss.make_moons(n_samples=1000, noise=0.05)\n",
        "dbs_1 = DBSCAN()\n",
        "dbs_1.fit(X)\n",
        "\n",
        "dbs_2 = DBSCAN(eps=0.2)\n",
        "dbs_2.fit(X)\n",
        "\n",
        "dbs_3 = DBSCAN(eps=0.1)\n",
        "dbs_3.fit(X)\n",
        "\n",
        "plt.subplot(131)\n",
        "plt.title('eps=0.5')\n",
        "plt.scatter(X[:, 0], X[:, 1], c=dbs_1.labels_)\n",
        "\n",
        "plt.subplot(132)\n",
        "plt.title('eps=0.2')\n",
        "plt.scatter(X[:, 0], X[:, 1], c=dbs_2.labels_)\n",
        "\n",
        "plt.subplot(133)\n",
        "plt.title('eps=0.1')\n",
        "plt.scatter(X[:, 0], X[:, 1], c=dbs_3.labels_)"
      ],
      "execution_count": 72,
      "outputs": [
        {
          "output_type": "execute_result",
          "data": {
            "text/plain": [
              "<matplotlib.collections.PathCollection at 0x7f4b48687c50>"
            ]
          },
          "metadata": {
            "tags": []
          },
          "execution_count": 72
        },
        {
          "output_type": "display_data",
          "data": {
            "image/png": "[encoded data removed]",
            "text/plain": [
              "<Figure size 432x288 with 3 Axes>"
            ]
          },
          "metadata": {
            "tags": [],
            "needs_background": "light"
          }
        }
      ]
    },
    {
      "cell_type": "markdown",
      "metadata": {
        "id": "L90uBt9u6pZE"
      },
      "source": [
        "# PCA"
      ]
    },
    {
      "cell_type": "code",
      "metadata": {
        "colab": {
          "base_uri": "https://localhost:8080/"
        },
        "id": "gJBFUBwf6TMe",
        "outputId": "30758406-560b-449d-a589-40aa6bcc949d"
      },
      "source": [
        "from sklearn import datasets as dds \n",
        "from sklearn.decomposition import PCA\n",
        "\n",
        "ds = dds.load_iris()\n",
        "ds.data.shape"
      ],
      "execution_count": 73,
      "outputs": [
        {
          "output_type": "execute_result",
          "data": {
            "text/plain": [
              "(150, 4)"
            ]
          },
          "metadata": {
            "tags": []
          },
          "execution_count": 73
        }
      ]
    },
    {
      "cell_type": "code",
      "metadata": {
        "colab": {
          "base_uri": "https://localhost:8080/"
        },
        "id": "xW5OcFM1JdiF",
        "outputId": "ffe3ad6e-20f5-418a-e3cd-38b9fc7f887b"
      },
      "source": [
        "m = PCA()\n",
        "m.fit(ds.data)"
      ],
      "execution_count": 74,
      "outputs": [
        {
          "output_type": "execute_result",
          "data": {
            "text/plain": [
              "PCA(copy=True, iterated_power='auto', n_components=None, random_state=None,\n",
              "    svd_solver='auto', tol=0.0, whiten=False)"
            ]
          },
          "metadata": {
            "tags": []
          },
          "execution_count": 74
        }
      ]
    },
    {
      "cell_type": "code",
      "metadata": {
        "colab": {
          "base_uri": "https://localhost:8080/"
        },
        "id": "58cCyyOZJkVw",
        "outputId": "11e1ca33-7ef8-4cc7-9f3e-a030e70780e6"
      },
      "source": [
        "m.explained_variance_"
      ],
      "execution_count": 75,
      "outputs": [
        {
          "output_type": "execute_result",
          "data": {
            "text/plain": [
              "array([4.22824171, 0.24267075, 0.0782095 , 0.02383509])"
            ]
          },
          "metadata": {
            "tags": []
          },
          "execution_count": 75
        }
      ]
    },
    {
      "cell_type": "code",
      "metadata": {
        "colab": {
          "base_uri": "https://localhost:8080/"
        },
        "id": "2Eev4BmRJ6QX",
        "outputId": "679d2e7e-44ae-49a8-dce3-f41749d18b9e"
      },
      "source": [
        "m.explained_variance_ratio_"
      ],
      "execution_count": 76,
      "outputs": [
        {
          "output_type": "execute_result",
          "data": {
            "text/plain": [
              "array([0.92461872, 0.05306648, 0.01710261, 0.00521218])"
            ]
          },
          "metadata": {
            "tags": []
          },
          "execution_count": 76
        }
      ]
    },
    {
      "cell_type": "code",
      "metadata": {
        "colab": {
          "base_uri": "https://localhost:8080/"
        },
        "id": "5Tqge891J9Rx",
        "outputId": "7b11c056-5f88-4279-bc07-0c41664e0e03"
      },
      "source": [
        "m = PCA(n_components=0.97)\n",
        "m.fit(ds.data)"
      ],
      "execution_count": 77,
      "outputs": [
        {
          "output_type": "execute_result",
          "data": {
            "text/plain": [
              "PCA(copy=True, iterated_power='auto', n_components=0.97, random_state=None,\n",
              "    svd_solver='auto', tol=0.0, whiten=False)"
            ]
          },
          "metadata": {
            "tags": []
          },
          "execution_count": 77
        }
      ]
    },
    {
      "cell_type": "code",
      "metadata": {
        "colab": {
          "base_uri": "https://localhost:8080/"
        },
        "id": "hPOx10dSKaW5",
        "outputId": "0c031cda-1637-45b7-9414-b7ae35c5638e"
      },
      "source": [
        "m.explained_variance_"
      ],
      "execution_count": 78,
      "outputs": [
        {
          "output_type": "execute_result",
          "data": {
            "text/plain": [
              "array([4.22824171, 0.24267075])"
            ]
          },
          "metadata": {
            "tags": []
          },
          "execution_count": 78
        }
      ]
    },
    {
      "cell_type": "code",
      "metadata": {
        "colab": {
          "base_uri": "https://localhost:8080/"
        },
        "id": "D8cMYC9mKeZM",
        "outputId": "3fadfcb0-ad50-4edc-9a16-9dbc895dde07"
      },
      "source": [
        "m.explained_variance_ratio_"
      ],
      "execution_count": 80,
      "outputs": [
        {
          "output_type": "execute_result",
          "data": {
            "text/plain": [
              "array([0.92461872, 0.05306648])"
            ]
          },
          "metadata": {
            "tags": []
          },
          "execution_count": 80
        }
      ]
    },
    {
      "cell_type": "code",
      "metadata": {
        "colab": {
          "base_uri": "https://localhost:8080/"
        },
        "id": "IeCpUrboKg0n",
        "outputId": "f4e314d2-f231-4d49-a9be-d6a55d741d6b"
      },
      "source": [
        "d = m.transform(ds.data)\n",
        "d.shape"
      ],
      "execution_count": 82,
      "outputs": [
        {
          "output_type": "execute_result",
          "data": {
            "text/plain": [
              "(150, 2)"
            ]
          },
          "metadata": {
            "tags": []
          },
          "execution_count": 82
        }
      ]
    },
    {
      "cell_type": "code",
      "metadata": {
        "colab": {
          "base_uri": "https://localhost:8080/",
          "height": 269
        },
        "id": "fyUOPoYeK9rW",
        "outputId": "9df1a740-cbd7-444c-b103-ac3f1ea44152"
      },
      "source": [
        "import matplotlib.pyplot as plt\n",
        "\n",
        "plt.scatter(d[:, 0], d[:, 1], c=ds.target)\n",
        "plt.show()"
      ],
      "execution_count": 84,
      "outputs": [
        {
          "output_type": "display_data",
          "data": {
            "image/png": "[encoded data removed]",
            "text/plain": [
              "<Figure size 432x288 with 1 Axes>"
            ]
          },
          "metadata": {
            "tags": [],
            "needs_background": "light"
          }
        }
      ]
    }
  ]
}